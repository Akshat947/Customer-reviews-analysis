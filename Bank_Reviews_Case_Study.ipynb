{
 "cells": [
  {
   "cell_type": "markdown",
   "metadata": {},
   "source": [
    "### The objective of the case study is to analyze customer reviews and predict customer satisfaction with the reviews:\n",
    "### 1) Data processing\n",
    "### 2) Key positive words/ negative words (most frequent words)\n",
    "### 3) Classification of reviews into positive, negative and neutral\n",
    "### 4) Identify key themes of problems (using clustering, topic models)\n",
    "### 5) Predicting star ratings using reviews\n",
    "### 6) Perform Intent Analysis"
   ]
  },
  {
   "cell_type": "code",
   "execution_count": 1,
   "metadata": {},
   "outputs": [],
   "source": [
    "import numpy as np\n",
    "import pandas as pd\n",
    "import matplotlib.pyplot as plt\n",
    "%matplotlib inline\n",
    "import re\n",
    "import nltk\n",
    "from nltk.tokenize import word_tokenize\n",
    "from nltk.stem import WordNetLemmatizer\n",
    "from textblob import TextBlob\n",
    "from sklearn.model_selection import train_test_split\n",
    "from sklearn.feature_extraction.text import TfidfVectorizer\n",
    "from sklearn.decomposition import PCA,LatentDirichletAllocation\n",
    "from sklearn.cluster import KMeans\n",
    "from sklearn import metrics\n",
    "from sklearn.preprocessing import StandardScaler\n",
    "from sklearn.model_selection import GridSearchCV\n",
    "from sklearn.decomposition import PCA\n",
    "from sklearn.ensemble import RandomForestRegressor\n",
    "from sklearn.feature_selection import f_regression\n",
    "import scipy.stats as stats"
   ]
  },
  {
   "cell_type": "code",
   "execution_count": 2,
   "metadata": {},
   "outputs": [],
   "source": [
    "reviews_data=pd.read_excel('C:/Users/Lenovo/Desktop/5. Bank Reviews-Complaints Analysis/BankReviews.xlsx')"
   ]
  },
  {
   "cell_type": "code",
   "execution_count": 3,
   "metadata": {},
   "outputs": [
    {
     "data": {
      "text/html": [
       "<div>\n",
       "<style scoped>\n",
       "    .dataframe tbody tr th:only-of-type {\n",
       "        vertical-align: middle;\n",
       "    }\n",
       "\n",
       "    .dataframe tbody tr th {\n",
       "        vertical-align: top;\n",
       "    }\n",
       "\n",
       "    .dataframe thead th {\n",
       "        text-align: right;\n",
       "    }\n",
       "</style>\n",
       "<table border=\"1\" class=\"dataframe\">\n",
       "  <thead>\n",
       "    <tr style=\"text-align: right;\">\n",
       "      <th></th>\n",
       "      <th>Date</th>\n",
       "      <th>Stars</th>\n",
       "      <th>Reviews</th>\n",
       "      <th>BankName</th>\n",
       "    </tr>\n",
       "  </thead>\n",
       "  <tbody>\n",
       "    <tr>\n",
       "      <th>0</th>\n",
       "      <td>2017-04-10</td>\n",
       "      <td>5</td>\n",
       "      <td>Great job, Wyndham Capital! Each person was pr...</td>\n",
       "      <td>Wyndham Capital Mortgage</td>\n",
       "    </tr>\n",
       "    <tr>\n",
       "      <th>1</th>\n",
       "      <td>2017-02-10</td>\n",
       "      <td>5</td>\n",
       "      <td>Matthew Richardson is professional and helpful...</td>\n",
       "      <td>Wyndham Capital Mortgage</td>\n",
       "    </tr>\n",
       "    <tr>\n",
       "      <th>2</th>\n",
       "      <td>2017-08-21</td>\n",
       "      <td>5</td>\n",
       "      <td>We had a past experience with Wyndham Mortgage...</td>\n",
       "      <td>Wyndham Capital Mortgage</td>\n",
       "    </tr>\n",
       "    <tr>\n",
       "      <th>3</th>\n",
       "      <td>2017-12-17</td>\n",
       "      <td>5</td>\n",
       "      <td>We have been dealing with Brad Thomka from the...</td>\n",
       "      <td>Wyndham Capital Mortgage</td>\n",
       "    </tr>\n",
       "    <tr>\n",
       "      <th>4</th>\n",
       "      <td>2016-05-27</td>\n",
       "      <td>5</td>\n",
       "      <td>I can't express how grateful I am for the supp...</td>\n",
       "      <td>Wyndham Capital Mortgage</td>\n",
       "    </tr>\n",
       "  </tbody>\n",
       "</table>\n",
       "</div>"
      ],
      "text/plain": [
       "        Date  Stars                                            Reviews  \\\n",
       "0 2017-04-10      5  Great job, Wyndham Capital! Each person was pr...   \n",
       "1 2017-02-10      5  Matthew Richardson is professional and helpful...   \n",
       "2 2017-08-21      5  We had a past experience with Wyndham Mortgage...   \n",
       "3 2017-12-17      5  We have been dealing with Brad Thomka from the...   \n",
       "4 2016-05-27      5  I can't express how grateful I am for the supp...   \n",
       "\n",
       "                   BankName  \n",
       "0  Wyndham Capital Mortgage  \n",
       "1  Wyndham Capital Mortgage  \n",
       "2  Wyndham Capital Mortgage  \n",
       "3  Wyndham Capital Mortgage  \n",
       "4  Wyndham Capital Mortgage  "
      ]
     },
     "execution_count": 3,
     "metadata": {},
     "output_type": "execute_result"
    }
   ],
   "source": [
    "reviews_data.head()"
   ]
  },
  {
   "cell_type": "code",
   "execution_count": 4,
   "metadata": {},
   "outputs": [
    {
     "name": "stdout",
     "output_type": "stream",
     "text": [
      "<class 'pandas.core.frame.DataFrame'>\n",
      "RangeIndex: 505 entries, 0 to 504\n",
      "Data columns (total 4 columns):\n",
      "Date        505 non-null datetime64[ns]\n",
      "Stars       505 non-null int64\n",
      "Reviews     505 non-null object\n",
      "BankName    505 non-null object\n",
      "dtypes: datetime64[ns](1), int64(1), object(2)\n",
      "memory usage: 15.9+ KB\n"
     ]
    }
   ],
   "source": [
    "reviews_data.info()"
   ]
  },
  {
   "cell_type": "code",
   "execution_count": 5,
   "metadata": {},
   "outputs": [
    {
     "name": "stderr",
     "output_type": "stream",
     "text": [
      "C:\\Users\\Lenovo\\Anaconda3\\lib\\site-packages\\ipykernel_launcher.py:15: SettingWithCopyWarning: \n",
      "A value is trying to be set on a copy of a slice from a DataFrame\n",
      "\n",
      "See the caveats in the documentation: http://pandas.pydata.org/pandas-docs/stable/indexing.html#indexing-view-versus-copy\n",
      "  from ipykernel import kernelapp as app\n"
     ]
    }
   ],
   "source": [
    "#Preprocessing\n",
    "lemmatizer=WordNetLemmatizer()\n",
    "stopwords_list=nltk.corpus.stopwords.words('english')\n",
    "for x in range(0,len(reviews_data.Reviews)):\n",
    "    rev=''\n",
    "    tokens=word_tokenize(reviews_data.Reviews[x])\n",
    "    for word in tokens:\n",
    "        word=word.strip()\n",
    "        if(word.casefold() not in stopwords_list):\n",
    "            word=word.lower()+' '\n",
    "            word=lemmatizer.lemmatize(word)\n",
    "            rev=rev+word\n",
    "    rev=re.sub('[-,`.\\'\\\"!?)($&;%#*/0-9]',\"\",rev)\n",
    "    rev=rev.strip()\n",
    "    reviews_data.Reviews[x]=rev"
   ]
  },
  {
   "cell_type": "markdown",
   "metadata": {},
   "source": [
    "### Classification of reviews into positive, negative and neutral"
   ]
  },
  {
   "cell_type": "code",
   "execution_count": 6,
   "metadata": {},
   "outputs": [
    {
     "name": "stderr",
     "output_type": "stream",
     "text": [
      "C:\\Users\\Lenovo\\Anaconda3\\lib\\site-packages\\ipykernel_launcher.py:5: SettingWithCopyWarning: \n",
      "A value is trying to be set on a copy of a slice from a DataFrame\n",
      "\n",
      "See the caveats in the documentation: http://pandas.pydata.org/pandas-docs/stable/indexing.html#indexing-view-versus-copy\n",
      "  \"\"\"\n",
      "C:\\Users\\Lenovo\\Anaconda3\\lib\\site-packages\\pandas\\core\\indexing.py:190: SettingWithCopyWarning: \n",
      "A value is trying to be set on a copy of a slice from a DataFrame\n",
      "\n",
      "See the caveats in the documentation: http://pandas.pydata.org/pandas-docs/stable/indexing.html#indexing-view-versus-copy\n",
      "  self._setitem_with_indexer(indexer, value)\n",
      "C:\\Users\\Lenovo\\Anaconda3\\lib\\site-packages\\ipykernel_launcher.py:9: SettingWithCopyWarning: \n",
      "A value is trying to be set on a copy of a slice from a DataFrame\n",
      "\n",
      "See the caveats in the documentation: http://pandas.pydata.org/pandas-docs/stable/indexing.html#indexing-view-versus-copy\n",
      "  if __name__ == '__main__':\n",
      "C:\\Users\\Lenovo\\Anaconda3\\lib\\site-packages\\ipykernel_launcher.py:7: SettingWithCopyWarning: \n",
      "A value is trying to be set on a copy of a slice from a DataFrame\n",
      "\n",
      "See the caveats in the documentation: http://pandas.pydata.org/pandas-docs/stable/indexing.html#indexing-view-versus-copy\n",
      "  import sys\n"
     ]
    }
   ],
   "source": [
    "reviews_data['Polarity']=0\n",
    "for x in range(0,len(reviews_data)):\n",
    "    review=reviews_data.Reviews[x]\n",
    "    if(TextBlob(review).polarity>0):\n",
    "        reviews_data['Polarity'][x]='Positive'\n",
    "    elif(TextBlob(review).polarity==0):\n",
    "        reviews_data['Polarity'][x]='Neutral'\n",
    "    else:\n",
    "        reviews_data['Polarity'][x]='Negative'"
   ]
  },
  {
   "cell_type": "code",
   "execution_count": 7,
   "metadata": {},
   "outputs": [
    {
     "data": {
      "text/html": [
       "<div>\n",
       "<style scoped>\n",
       "    .dataframe tbody tr th:only-of-type {\n",
       "        vertical-align: middle;\n",
       "    }\n",
       "\n",
       "    .dataframe tbody tr th {\n",
       "        vertical-align: top;\n",
       "    }\n",
       "\n",
       "    .dataframe thead th {\n",
       "        text-align: right;\n",
       "    }\n",
       "</style>\n",
       "<table border=\"1\" class=\"dataframe\">\n",
       "  <thead>\n",
       "    <tr style=\"text-align: right;\">\n",
       "      <th></th>\n",
       "      <th>Date</th>\n",
       "      <th>Stars</th>\n",
       "      <th>Reviews</th>\n",
       "      <th>BankName</th>\n",
       "      <th>Polarity</th>\n",
       "    </tr>\n",
       "  </thead>\n",
       "  <tbody>\n",
       "    <tr>\n",
       "      <th>0</th>\n",
       "      <td>2017-04-10</td>\n",
       "      <td>5</td>\n",
       "      <td>great job  wyndham capital  person professiona...</td>\n",
       "      <td>Wyndham Capital Mortgage</td>\n",
       "      <td>Positive</td>\n",
       "    </tr>\n",
       "    <tr>\n",
       "      <th>1</th>\n",
       "      <td>2017-02-10</td>\n",
       "      <td>5</td>\n",
       "      <td>matthew richardson professional helpful  helpe...</td>\n",
       "      <td>Wyndham Capital Mortgage</td>\n",
       "      <td>Positive</td>\n",
       "    </tr>\n",
       "    <tr>\n",
       "      <th>2</th>\n",
       "      <td>2017-08-21</td>\n",
       "      <td>5</td>\n",
       "      <td>past experience wyndham mortgage would without...</td>\n",
       "      <td>Wyndham Capital Mortgage</td>\n",
       "      <td>Negative</td>\n",
       "    </tr>\n",
       "    <tr>\n",
       "      <th>3</th>\n",
       "      <td>2017-12-17</td>\n",
       "      <td>5</td>\n",
       "      <td>dealing brad thomka beginning started stressfu...</td>\n",
       "      <td>Wyndham Capital Mortgage</td>\n",
       "      <td>Positive</td>\n",
       "    </tr>\n",
       "    <tr>\n",
       "      <th>4</th>\n",
       "      <td>2016-05-27</td>\n",
       "      <td>5</td>\n",
       "      <td>ca nt express grateful support zach provided f...</td>\n",
       "      <td>Wyndham Capital Mortgage</td>\n",
       "      <td>Positive</td>\n",
       "    </tr>\n",
       "  </tbody>\n",
       "</table>\n",
       "</div>"
      ],
      "text/plain": [
       "        Date  Stars                                            Reviews  \\\n",
       "0 2017-04-10      5  great job  wyndham capital  person professiona...   \n",
       "1 2017-02-10      5  matthew richardson professional helpful  helpe...   \n",
       "2 2017-08-21      5  past experience wyndham mortgage would without...   \n",
       "3 2017-12-17      5  dealing brad thomka beginning started stressfu...   \n",
       "4 2016-05-27      5  ca nt express grateful support zach provided f...   \n",
       "\n",
       "                   BankName  Polarity  \n",
       "0  Wyndham Capital Mortgage  Positive  \n",
       "1  Wyndham Capital Mortgage  Positive  \n",
       "2  Wyndham Capital Mortgage  Negative  \n",
       "3  Wyndham Capital Mortgage  Positive  \n",
       "4  Wyndham Capital Mortgage  Positive  "
      ]
     },
     "execution_count": 7,
     "metadata": {},
     "output_type": "execute_result"
    }
   ],
   "source": [
    "reviews_data.head()"
   ]
  },
  {
   "cell_type": "markdown",
   "metadata": {},
   "source": [
    "### Key positive/negative words (most frequent words)"
   ]
  },
  {
   "cell_type": "code",
   "execution_count": 8,
   "metadata": {},
   "outputs": [],
   "source": [
    "pos_rev=''\n",
    "neg_rev=''\n",
    "neg_rev_list=[]\n",
    "for x in range(0,len(reviews_data)):\n",
    "    if(reviews_data.Polarity[x]=='Positive'):\n",
    "        pos_rev+=reviews_data.Reviews[x]+' '\n",
    "    elif(reviews_data.Polarity[x]=='Negative'):\n",
    "        neg_rev+=reviews_data.Reviews[x]+' '\n",
    "        neg_rev_list.append(reviews_data.Reviews[x])\n",
    "pos_rev=pos_rev.strip()\n",
    "neg_rev=neg_rev.strip()"
   ]
  },
  {
   "cell_type": "code",
   "execution_count": 9,
   "metadata": {},
   "outputs": [],
   "source": [
    "pos_list=[]\n",
    "for x in nltk.pos_tag(word_tokenize(pos_rev)):\n",
    "    if(x[1].startswith('NN')):\n",
    "        pos_list.append(x[0])"
   ]
  },
  {
   "cell_type": "code",
   "execution_count": 10,
   "metadata": {},
   "outputs": [],
   "source": [
    "neg_list=[]\n",
    "for x in nltk.pos_tag(word_tokenize(neg_rev)):\n",
    "    if(x[1].startswith('NN')):\n",
    "        neg_list.append(x[0])"
   ]
  },
  {
   "cell_type": "code",
   "execution_count": 11,
   "metadata": {},
   "outputs": [],
   "source": [
    "fdist_pos=nltk.FreqDist(nltk.text.Text(pos_list))\n",
    "fdist_neg=nltk.FreqDist(nltk.text.Text(neg_list))"
   ]
  },
  {
   "cell_type": "code",
   "execution_count": 12,
   "metadata": {},
   "outputs": [
    {
     "data": {
      "image/png": "[encoded data removed]",
      "text/plain": [
       "<Figure size 864x504 with 1 Axes>"
      ]
     },
     "metadata": {
      "needs_background": "light"
     },
     "output_type": "display_data"
    },
    {
     "data": {
      "image/png": "[encoded data removed]",
      "text/plain": [
       "<Figure size 864x504 with 1 Axes>"
      ]
     },
     "metadata": {
      "needs_background": "light"
     },
     "output_type": "display_data"
    }
   ],
   "source": [
    "plt.figure(figsize=(12,7))\n",
    "plt.title('Key Positive Words')\n",
    "fdist_pos.plot(20)\n",
    "plt.show()\n",
    "plt.figure(figsize=(12,7))\n",
    "plt.title('Key Negative Words')\n",
    "fdist_neg.plot(20)\n",
    "plt.show()"
   ]
  },
  {
   "cell_type": "markdown",
   "metadata": {},
   "source": [
    "### Identifying key themes of problems and Intent analysis"
   ]
  },
  {
   "cell_type": "code",
   "execution_count": 13,
   "metadata": {},
   "outputs": [],
   "source": [
    "#Clustering and then applying Topic Modelling on each of the clusters(For 4 and 6 parts)"
   ]
  },
  {
   "cell_type": "code",
   "execution_count": 14,
   "metadata": {},
   "outputs": [],
   "source": [
    "low_rate_rev_list=reviews_data[reviews_data.Stars==1].Reviews"
   ]
  },
  {
   "cell_type": "code",
   "execution_count": 15,
   "metadata": {},
   "outputs": [],
   "source": [
    "vect=TfidfVectorizer(ngram_range=(2,3),min_df=0.01,max_df=0.90,binary=False,stop_words='english')"
   ]
  },
  {
   "cell_type": "code",
   "execution_count": 16,
   "metadata": {},
   "outputs": [],
   "source": [
    "reviews_tdm_df=pd.DataFrame(vect.fit_transform(low_rate_rev_list).toarray(),\n",
    "                            columns=vect.get_feature_names())"
   ]
  },
  {
   "cell_type": "code",
   "execution_count": 17,
   "metadata": {},
   "outputs": [
    {
     "data": {
      "text/plain": [
       "(95, 6734)"
      ]
     },
     "execution_count": 17,
     "metadata": {},
     "output_type": "execute_result"
    }
   ],
   "source": [
    "reviews_tdm_df.shape"
   ]
  },
  {
   "cell_type": "code",
   "execution_count": 18,
   "metadata": {},
   "outputs": [],
   "source": [
    "reviews_tdm_df=reviews_tdm_df.apply(lambda x: x.clip(lower=x.dropna().quantile(0.01),upper=x.quantile(0.99)))"
   ]
  },
  {
   "cell_type": "code",
   "execution_count": 19,
   "metadata": {},
   "outputs": [],
   "source": [
    "#Scaling the data"
   ]
  },
  {
   "cell_type": "code",
   "execution_count": 20,
   "metadata": {},
   "outputs": [],
   "source": [
    "reviews_tdm_df_scaled=pd.DataFrame(StandardScaler().fit_transform(reviews_tdm_df))"
   ]
  },
  {
   "cell_type": "code",
   "execution_count": 21,
   "metadata": {},
   "outputs": [],
   "source": [
    "#Dimension Reduction\n",
    "pc=PCA(n_components=95)\n",
    "pc.fit(reviews_tdm_df_scaled)\n",
    "ei=pc.explained_variance_"
   ]
  },
  {
   "cell_type": "code",
   "execution_count": 22,
   "metadata": {},
   "outputs": [],
   "source": [
    "cum_var=np.cumsum(np.round(pc.explained_variance_ratio_,4)*100)"
   ]
  },
  {
   "cell_type": "code",
   "execution_count": 23,
   "metadata": {},
   "outputs": [
    {
     "data": {
      "text/html": [
       "<div>\n",
       "<style scoped>\n",
       "    .dataframe tbody tr th:only-of-type {\n",
       "        vertical-align: middle;\n",
       "    }\n",
       "\n",
       "    .dataframe tbody tr th {\n",
       "        vertical-align: top;\n",
       "    }\n",
       "\n",
       "    .dataframe thead th {\n",
       "        text-align: right;\n",
       "    }\n",
       "</style>\n",
       "<table border=\"1\" class=\"dataframe\">\n",
       "  <thead>\n",
       "    <tr style=\"text-align: right;\">\n",
       "      <th></th>\n",
       "      <th>Eigen Value</th>\n",
       "      <th>Cumulative Variance</th>\n",
       "    </tr>\n",
       "  </thead>\n",
       "  <tbody>\n",
       "    <tr>\n",
       "      <th>0</th>\n",
       "      <td>3.984745e+02</td>\n",
       "      <td>5.86</td>\n",
       "    </tr>\n",
       "    <tr>\n",
       "      <th>1</th>\n",
       "      <td>3.839918e+02</td>\n",
       "      <td>11.50</td>\n",
       "    </tr>\n",
       "    <tr>\n",
       "      <th>2</th>\n",
       "      <td>3.424774e+02</td>\n",
       "      <td>16.53</td>\n",
       "    </tr>\n",
       "    <tr>\n",
       "      <th>3</th>\n",
       "      <td>3.278688e+02</td>\n",
       "      <td>21.35</td>\n",
       "    </tr>\n",
       "    <tr>\n",
       "      <th>4</th>\n",
       "      <td>3.049362e+02</td>\n",
       "      <td>25.83</td>\n",
       "    </tr>\n",
       "    <tr>\n",
       "      <th>5</th>\n",
       "      <td>2.801724e+02</td>\n",
       "      <td>29.95</td>\n",
       "    </tr>\n",
       "    <tr>\n",
       "      <th>6</th>\n",
       "      <td>2.701616e+02</td>\n",
       "      <td>33.92</td>\n",
       "    </tr>\n",
       "    <tr>\n",
       "      <th>7</th>\n",
       "      <td>2.438806e+02</td>\n",
       "      <td>37.50</td>\n",
       "    </tr>\n",
       "    <tr>\n",
       "      <th>8</th>\n",
       "      <td>2.080481e+02</td>\n",
       "      <td>40.56</td>\n",
       "    </tr>\n",
       "    <tr>\n",
       "      <th>9</th>\n",
       "      <td>1.833064e+02</td>\n",
       "      <td>43.25</td>\n",
       "    </tr>\n",
       "    <tr>\n",
       "      <th>10</th>\n",
       "      <td>1.774319e+02</td>\n",
       "      <td>45.86</td>\n",
       "    </tr>\n",
       "    <tr>\n",
       "      <th>11</th>\n",
       "      <td>1.688209e+02</td>\n",
       "      <td>48.34</td>\n",
       "    </tr>\n",
       "    <tr>\n",
       "      <th>12</th>\n",
       "      <td>1.575807e+02</td>\n",
       "      <td>50.66</td>\n",
       "    </tr>\n",
       "    <tr>\n",
       "      <th>13</th>\n",
       "      <td>1.562001e+02</td>\n",
       "      <td>52.96</td>\n",
       "    </tr>\n",
       "    <tr>\n",
       "      <th>14</th>\n",
       "      <td>1.491697e+02</td>\n",
       "      <td>55.15</td>\n",
       "    </tr>\n",
       "    <tr>\n",
       "      <th>15</th>\n",
       "      <td>1.349872e+02</td>\n",
       "      <td>57.13</td>\n",
       "    </tr>\n",
       "    <tr>\n",
       "      <th>16</th>\n",
       "      <td>1.296669e+02</td>\n",
       "      <td>59.04</td>\n",
       "    </tr>\n",
       "    <tr>\n",
       "      <th>17</th>\n",
       "      <td>1.256842e+02</td>\n",
       "      <td>60.89</td>\n",
       "    </tr>\n",
       "    <tr>\n",
       "      <th>18</th>\n",
       "      <td>1.225717e+02</td>\n",
       "      <td>62.69</td>\n",
       "    </tr>\n",
       "    <tr>\n",
       "      <th>19</th>\n",
       "      <td>1.171280e+02</td>\n",
       "      <td>64.41</td>\n",
       "    </tr>\n",
       "    <tr>\n",
       "      <th>20</th>\n",
       "      <td>1.121141e+02</td>\n",
       "      <td>66.06</td>\n",
       "    </tr>\n",
       "    <tr>\n",
       "      <th>21</th>\n",
       "      <td>1.081437e+02</td>\n",
       "      <td>67.65</td>\n",
       "    </tr>\n",
       "    <tr>\n",
       "      <th>22</th>\n",
       "      <td>1.060562e+02</td>\n",
       "      <td>69.21</td>\n",
       "    </tr>\n",
       "    <tr>\n",
       "      <th>23</th>\n",
       "      <td>1.025136e+02</td>\n",
       "      <td>70.72</td>\n",
       "    </tr>\n",
       "    <tr>\n",
       "      <th>24</th>\n",
       "      <td>9.692929e+01</td>\n",
       "      <td>72.14</td>\n",
       "    </tr>\n",
       "    <tr>\n",
       "      <th>25</th>\n",
       "      <td>9.417877e+01</td>\n",
       "      <td>73.52</td>\n",
       "    </tr>\n",
       "    <tr>\n",
       "      <th>26</th>\n",
       "      <td>8.945394e+01</td>\n",
       "      <td>74.83</td>\n",
       "    </tr>\n",
       "    <tr>\n",
       "      <th>27</th>\n",
       "      <td>8.218957e+01</td>\n",
       "      <td>76.04</td>\n",
       "    </tr>\n",
       "    <tr>\n",
       "      <th>28</th>\n",
       "      <td>7.936073e+01</td>\n",
       "      <td>77.21</td>\n",
       "    </tr>\n",
       "    <tr>\n",
       "      <th>29</th>\n",
       "      <td>7.743295e+01</td>\n",
       "      <td>78.35</td>\n",
       "    </tr>\n",
       "    <tr>\n",
       "      <th>...</th>\n",
       "      <td>...</td>\n",
       "      <td>...</td>\n",
       "    </tr>\n",
       "    <tr>\n",
       "      <th>65</th>\n",
       "      <td>1.327807e+01</td>\n",
       "      <td>99.38</td>\n",
       "    </tr>\n",
       "    <tr>\n",
       "      <th>66</th>\n",
       "      <td>1.270304e+01</td>\n",
       "      <td>99.57</td>\n",
       "    </tr>\n",
       "    <tr>\n",
       "      <th>67</th>\n",
       "      <td>1.187875e+01</td>\n",
       "      <td>99.74</td>\n",
       "    </tr>\n",
       "    <tr>\n",
       "      <th>68</th>\n",
       "      <td>9.771893e+00</td>\n",
       "      <td>99.88</td>\n",
       "    </tr>\n",
       "    <tr>\n",
       "      <th>69</th>\n",
       "      <td>5.482428e+00</td>\n",
       "      <td>99.96</td>\n",
       "    </tr>\n",
       "    <tr>\n",
       "      <th>70</th>\n",
       "      <td>6.856842e-01</td>\n",
       "      <td>99.97</td>\n",
       "    </tr>\n",
       "    <tr>\n",
       "      <th>71</th>\n",
       "      <td>6.851282e-01</td>\n",
       "      <td>99.98</td>\n",
       "    </tr>\n",
       "    <tr>\n",
       "      <th>72</th>\n",
       "      <td>6.836119e-01</td>\n",
       "      <td>99.99</td>\n",
       "    </tr>\n",
       "    <tr>\n",
       "      <th>73</th>\n",
       "      <td>6.735573e-01</td>\n",
       "      <td>100.00</td>\n",
       "    </tr>\n",
       "    <tr>\n",
       "      <th>74</th>\n",
       "      <td>4.450065e-01</td>\n",
       "      <td>100.01</td>\n",
       "    </tr>\n",
       "    <tr>\n",
       "      <th>75</th>\n",
       "      <td>3.055986e-01</td>\n",
       "      <td>100.01</td>\n",
       "    </tr>\n",
       "    <tr>\n",
       "      <th>76</th>\n",
       "      <td>7.858525e-29</td>\n",
       "      <td>100.01</td>\n",
       "    </tr>\n",
       "    <tr>\n",
       "      <th>77</th>\n",
       "      <td>3.221040e-29</td>\n",
       "      <td>100.01</td>\n",
       "    </tr>\n",
       "    <tr>\n",
       "      <th>78</th>\n",
       "      <td>2.527343e-29</td>\n",
       "      <td>100.01</td>\n",
       "    </tr>\n",
       "    <tr>\n",
       "      <th>79</th>\n",
       "      <td>1.117136e-29</td>\n",
       "      <td>100.01</td>\n",
       "    </tr>\n",
       "    <tr>\n",
       "      <th>80</th>\n",
       "      <td>1.083656e-29</td>\n",
       "      <td>100.01</td>\n",
       "    </tr>\n",
       "    <tr>\n",
       "      <th>81</th>\n",
       "      <td>5.132053e-30</td>\n",
       "      <td>100.01</td>\n",
       "    </tr>\n",
       "    <tr>\n",
       "      <th>82</th>\n",
       "      <td>3.703809e-30</td>\n",
       "      <td>100.01</td>\n",
       "    </tr>\n",
       "    <tr>\n",
       "      <th>83</th>\n",
       "      <td>3.681421e-30</td>\n",
       "      <td>100.01</td>\n",
       "    </tr>\n",
       "    <tr>\n",
       "      <th>84</th>\n",
       "      <td>2.771240e-30</td>\n",
       "      <td>100.01</td>\n",
       "    </tr>\n",
       "    <tr>\n",
       "      <th>85</th>\n",
       "      <td>2.771240e-30</td>\n",
       "      <td>100.01</td>\n",
       "    </tr>\n",
       "    <tr>\n",
       "      <th>86</th>\n",
       "      <td>2.771240e-30</td>\n",
       "      <td>100.01</td>\n",
       "    </tr>\n",
       "    <tr>\n",
       "      <th>87</th>\n",
       "      <td>2.771240e-30</td>\n",
       "      <td>100.01</td>\n",
       "    </tr>\n",
       "    <tr>\n",
       "      <th>88</th>\n",
       "      <td>2.771240e-30</td>\n",
       "      <td>100.01</td>\n",
       "    </tr>\n",
       "    <tr>\n",
       "      <th>89</th>\n",
       "      <td>2.771240e-30</td>\n",
       "      <td>100.01</td>\n",
       "    </tr>\n",
       "    <tr>\n",
       "      <th>90</th>\n",
       "      <td>2.771240e-30</td>\n",
       "      <td>100.01</td>\n",
       "    </tr>\n",
       "    <tr>\n",
       "      <th>91</th>\n",
       "      <td>2.771240e-30</td>\n",
       "      <td>100.01</td>\n",
       "    </tr>\n",
       "    <tr>\n",
       "      <th>92</th>\n",
       "      <td>2.771240e-30</td>\n",
       "      <td>100.01</td>\n",
       "    </tr>\n",
       "    <tr>\n",
       "      <th>93</th>\n",
       "      <td>2.210661e-30</td>\n",
       "      <td>100.01</td>\n",
       "    </tr>\n",
       "    <tr>\n",
       "      <th>94</th>\n",
       "      <td>1.189101e-30</td>\n",
       "      <td>100.01</td>\n",
       "    </tr>\n",
       "  </tbody>\n",
       "</table>\n",
       "<p>95 rows × 2 columns</p>\n",
       "</div>"
      ],
      "text/plain": [
       "     Eigen Value  Cumulative Variance\n",
       "0   3.984745e+02                 5.86\n",
       "1   3.839918e+02                11.50\n",
       "2   3.424774e+02                16.53\n",
       "3   3.278688e+02                21.35\n",
       "4   3.049362e+02                25.83\n",
       "5   2.801724e+02                29.95\n",
       "6   2.701616e+02                33.92\n",
       "7   2.438806e+02                37.50\n",
       "8   2.080481e+02                40.56\n",
       "9   1.833064e+02                43.25\n",
       "10  1.774319e+02                45.86\n",
       "11  1.688209e+02                48.34\n",
       "12  1.575807e+02                50.66\n",
       "13  1.562001e+02                52.96\n",
       "14  1.491697e+02                55.15\n",
       "15  1.349872e+02                57.13\n",
       "16  1.296669e+02                59.04\n",
       "17  1.256842e+02                60.89\n",
       "18  1.225717e+02                62.69\n",
       "19  1.171280e+02                64.41\n",
       "20  1.121141e+02                66.06\n",
       "21  1.081437e+02                67.65\n",
       "22  1.060562e+02                69.21\n",
       "23  1.025136e+02                70.72\n",
       "24  9.692929e+01                72.14\n",
       "25  9.417877e+01                73.52\n",
       "26  8.945394e+01                74.83\n",
       "27  8.218957e+01                76.04\n",
       "28  7.936073e+01                77.21\n",
       "29  7.743295e+01                78.35\n",
       "..           ...                  ...\n",
       "65  1.327807e+01                99.38\n",
       "66  1.270304e+01                99.57\n",
       "67  1.187875e+01                99.74\n",
       "68  9.771893e+00                99.88\n",
       "69  5.482428e+00                99.96\n",
       "70  6.856842e-01                99.97\n",
       "71  6.851282e-01                99.98\n",
       "72  6.836119e-01                99.99\n",
       "73  6.735573e-01               100.00\n",
       "74  4.450065e-01               100.01\n",
       "75  3.055986e-01               100.01\n",
       "76  7.858525e-29               100.01\n",
       "77  3.221040e-29               100.01\n",
       "78  2.527343e-29               100.01\n",
       "79  1.117136e-29               100.01\n",
       "80  1.083656e-29               100.01\n",
       "81  5.132053e-30               100.01\n",
       "82  3.703809e-30               100.01\n",
       "83  3.681421e-30               100.01\n",
       "84  2.771240e-30               100.01\n",
       "85  2.771240e-30               100.01\n",
       "86  2.771240e-30               100.01\n",
       "87  2.771240e-30               100.01\n",
       "88  2.771240e-30               100.01\n",
       "89  2.771240e-30               100.01\n",
       "90  2.771240e-30               100.01\n",
       "91  2.771240e-30               100.01\n",
       "92  2.771240e-30               100.01\n",
       "93  2.210661e-30               100.01\n",
       "94  1.189101e-30               100.01\n",
       "\n",
       "[95 rows x 2 columns]"
      ]
     },
     "execution_count": 23,
     "metadata": {},
     "output_type": "execute_result"
    }
   ],
   "source": [
    "ei_var=pd.DataFrame([ei,cum_var]).T\n",
    "ei_var.columns=['Eigen Value','Cumulative Variance']\n",
    "ei_var.to_excel('C:/Users/Lenovo/Desktop/Eigen.xlsx')\n",
    "ei_var"
   ]
  },
  {
   "cell_type": "code",
   "execution_count": 24,
   "metadata": {},
   "outputs": [],
   "source": [
    "pc_final=PCA(n_components=70)\n",
    "dimensions=pd.DataFrame(pc_final.fit_transform(reviews_tdm_df_scaled))"
   ]
  },
  {
   "cell_type": "code",
   "execution_count": 25,
   "metadata": {},
   "outputs": [
    {
     "data": {
      "text/html": [
       "<div>\n",
       "<style scoped>\n",
       "    .dataframe tbody tr th:only-of-type {\n",
       "        vertical-align: middle;\n",
       "    }\n",
       "\n",
       "    .dataframe tbody tr th {\n",
       "        vertical-align: top;\n",
       "    }\n",
       "\n",
       "    .dataframe thead th {\n",
       "        text-align: right;\n",
       "    }\n",
       "</style>\n",
       "<table border=\"1\" class=\"dataframe\">\n",
       "  <thead>\n",
       "    <tr style=\"text-align: right;\">\n",
       "      <th></th>\n",
       "      <th>0</th>\n",
       "      <th>1</th>\n",
       "      <th>2</th>\n",
       "      <th>3</th>\n",
       "      <th>4</th>\n",
       "      <th>5</th>\n",
       "      <th>6</th>\n",
       "      <th>7</th>\n",
       "      <th>8</th>\n",
       "      <th>9</th>\n",
       "      <th>...</th>\n",
       "      <th>60</th>\n",
       "      <th>61</th>\n",
       "      <th>62</th>\n",
       "      <th>63</th>\n",
       "      <th>64</th>\n",
       "      <th>65</th>\n",
       "      <th>66</th>\n",
       "      <th>67</th>\n",
       "      <th>68</th>\n",
       "      <th>69</th>\n",
       "    </tr>\n",
       "  </thead>\n",
       "  <tbody>\n",
       "    <tr>\n",
       "      <th>0</th>\n",
       "      <td>-1.190334</td>\n",
       "      <td>-1.607583</td>\n",
       "      <td>-0.914512</td>\n",
       "      <td>-3.149081</td>\n",
       "      <td>-1.849948</td>\n",
       "      <td>-0.041133</td>\n",
       "      <td>-3.804998</td>\n",
       "      <td>-2.327383</td>\n",
       "      <td>-1.516750</td>\n",
       "      <td>-1.810131</td>\n",
       "      <td>...</td>\n",
       "      <td>-0.087905</td>\n",
       "      <td>-0.065001</td>\n",
       "      <td>-0.009004</td>\n",
       "      <td>-0.293734</td>\n",
       "      <td>0.005146</td>\n",
       "      <td>-4.872373e-15</td>\n",
       "      <td>-0.076335</td>\n",
       "      <td>-0.038861</td>\n",
       "      <td>-0.191148</td>\n",
       "      <td>-0.116191</td>\n",
       "    </tr>\n",
       "    <tr>\n",
       "      <th>1</th>\n",
       "      <td>-1.183175</td>\n",
       "      <td>-1.230500</td>\n",
       "      <td>-0.854363</td>\n",
       "      <td>-2.929080</td>\n",
       "      <td>-1.712040</td>\n",
       "      <td>-0.037806</td>\n",
       "      <td>-3.483302</td>\n",
       "      <td>-2.106844</td>\n",
       "      <td>-1.340141</td>\n",
       "      <td>-1.555155</td>\n",
       "      <td>...</td>\n",
       "      <td>-0.124758</td>\n",
       "      <td>-0.091651</td>\n",
       "      <td>-0.012743</td>\n",
       "      <td>-0.408731</td>\n",
       "      <td>0.007142</td>\n",
       "      <td>4.646955e-15</td>\n",
       "      <td>-0.105244</td>\n",
       "      <td>-0.056845</td>\n",
       "      <td>-0.257766</td>\n",
       "      <td>-0.153232</td>\n",
       "    </tr>\n",
       "    <tr>\n",
       "      <th>2</th>\n",
       "      <td>-0.884857</td>\n",
       "      <td>-1.545115</td>\n",
       "      <td>-0.775773</td>\n",
       "      <td>-3.021124</td>\n",
       "      <td>-1.795638</td>\n",
       "      <td>-0.041446</td>\n",
       "      <td>-3.699401</td>\n",
       "      <td>-2.263241</td>\n",
       "      <td>-1.472136</td>\n",
       "      <td>-1.775236</td>\n",
       "      <td>...</td>\n",
       "      <td>-0.109953</td>\n",
       "      <td>-0.070511</td>\n",
       "      <td>-0.045683</td>\n",
       "      <td>-0.467071</td>\n",
       "      <td>-0.256440</td>\n",
       "      <td>-1.119676e-14</td>\n",
       "      <td>-0.048155</td>\n",
       "      <td>-0.041386</td>\n",
       "      <td>-0.298622</td>\n",
       "      <td>-0.111486</td>\n",
       "    </tr>\n",
       "    <tr>\n",
       "      <th>3</th>\n",
       "      <td>-1.046549</td>\n",
       "      <td>-1.511024</td>\n",
       "      <td>-0.687997</td>\n",
       "      <td>-2.843549</td>\n",
       "      <td>-1.684593</td>\n",
       "      <td>-0.037725</td>\n",
       "      <td>-3.439474</td>\n",
       "      <td>-2.082683</td>\n",
       "      <td>-1.173324</td>\n",
       "      <td>-1.519436</td>\n",
       "      <td>...</td>\n",
       "      <td>-0.130262</td>\n",
       "      <td>-0.078066</td>\n",
       "      <td>-0.011029</td>\n",
       "      <td>-0.446857</td>\n",
       "      <td>0.009760</td>\n",
       "      <td>-3.915065e-15</td>\n",
       "      <td>-0.114795</td>\n",
       "      <td>-0.061265</td>\n",
       "      <td>-0.277751</td>\n",
       "      <td>-0.164347</td>\n",
       "    </tr>\n",
       "    <tr>\n",
       "      <th>4</th>\n",
       "      <td>-1.046549</td>\n",
       "      <td>-1.511024</td>\n",
       "      <td>-0.687997</td>\n",
       "      <td>-2.843549</td>\n",
       "      <td>-1.684593</td>\n",
       "      <td>-0.037725</td>\n",
       "      <td>-3.439474</td>\n",
       "      <td>-2.082683</td>\n",
       "      <td>-1.173324</td>\n",
       "      <td>-1.519436</td>\n",
       "      <td>...</td>\n",
       "      <td>-0.130262</td>\n",
       "      <td>-0.078066</td>\n",
       "      <td>-0.011029</td>\n",
       "      <td>-0.446857</td>\n",
       "      <td>0.009760</td>\n",
       "      <td>-2.887147e-16</td>\n",
       "      <td>-0.114795</td>\n",
       "      <td>-0.061265</td>\n",
       "      <td>-0.277751</td>\n",
       "      <td>-0.164347</td>\n",
       "    </tr>\n",
       "  </tbody>\n",
       "</table>\n",
       "<p>5 rows × 70 columns</p>\n",
       "</div>"
      ],
      "text/plain": [
       "         0         1         2         3         4         5         6   \\\n",
       "0 -1.190334 -1.607583 -0.914512 -3.149081 -1.849948 -0.041133 -3.804998   \n",
       "1 -1.183175 -1.230500 -0.854363 -2.929080 -1.712040 -0.037806 -3.483302   \n",
       "2 -0.884857 -1.545115 -0.775773 -3.021124 -1.795638 -0.041446 -3.699401   \n",
       "3 -1.046549 -1.511024 -0.687997 -2.843549 -1.684593 -0.037725 -3.439474   \n",
       "4 -1.046549 -1.511024 -0.687997 -2.843549 -1.684593 -0.037725 -3.439474   \n",
       "\n",
       "         7         8         9   ...        60        61        62        63  \\\n",
       "0 -2.327383 -1.516750 -1.810131  ... -0.087905 -0.065001 -0.009004 -0.293734   \n",
       "1 -2.106844 -1.340141 -1.555155  ... -0.124758 -0.091651 -0.012743 -0.408731   \n",
       "2 -2.263241 -1.472136 -1.775236  ... -0.109953 -0.070511 -0.045683 -0.467071   \n",
       "3 -2.082683 -1.173324 -1.519436  ... -0.130262 -0.078066 -0.011029 -0.446857   \n",
       "4 -2.082683 -1.173324 -1.519436  ... -0.130262 -0.078066 -0.011029 -0.446857   \n",
       "\n",
       "         64            65        66        67        68        69  \n",
       "0  0.005146 -4.872373e-15 -0.076335 -0.038861 -0.191148 -0.116191  \n",
       "1  0.007142  4.646955e-15 -0.105244 -0.056845 -0.257766 -0.153232  \n",
       "2 -0.256440 -1.119676e-14 -0.048155 -0.041386 -0.298622 -0.111486  \n",
       "3  0.009760 -3.915065e-15 -0.114795 -0.061265 -0.277751 -0.164347  \n",
       "4  0.009760 -2.887147e-16 -0.114795 -0.061265 -0.277751 -0.164347  \n",
       "\n",
       "[5 rows x 70 columns]"
      ]
     },
     "execution_count": 25,
     "metadata": {},
     "output_type": "execute_result"
    }
   ],
   "source": [
    "dimensions.head()"
   ]
  },
  {
   "cell_type": "code",
   "execution_count": 26,
   "metadata": {},
   "outputs": [],
   "source": [
    "#Clustering"
   ]
  },
  {
   "cell_type": "code",
   "execution_count": 27,
   "metadata": {},
   "outputs": [],
   "source": [
    "km_3=KMeans(n_clusters=3,random_state=120293).fit(dimensions)\n",
    "km_4=KMeans(n_clusters=4,random_state=120293).fit(dimensions)\n",
    "km_5=KMeans(n_clusters=5,random_state=120293).fit(dimensions)\n",
    "km_6=KMeans(n_clusters=6,random_state=120293).fit(dimensions)\n",
    "km_7=KMeans(n_clusters=7,random_state=120293).fit(dimensions)\n",
    "km_8=KMeans(n_clusters=8,random_state=120293).fit(dimensions)\n",
    "km_9=KMeans(n_clusters=9,random_state=120293).fit(dimensions)\n",
    "km_10=KMeans(n_clusters=10,random_state=120293).fit(dimensions)"
   ]
  },
  {
   "cell_type": "code",
   "execution_count": 28,
   "metadata": {},
   "outputs": [
    {
     "data": {
      "text/plain": [
       "0    0.978947\n",
       "2    0.010526\n",
       "1    0.010526\n",
       "dtype: float64"
      ]
     },
     "execution_count": 28,
     "metadata": {},
     "output_type": "execute_result"
    }
   ],
   "source": [
    "pd.Series(km_3.labels_).value_counts()/len(dimensions)"
   ]
  },
  {
   "cell_type": "code",
   "execution_count": 29,
   "metadata": {},
   "outputs": [
    {
     "data": {
      "text/plain": [
       "0    0.968421\n",
       "3    0.010526\n",
       "2    0.010526\n",
       "1    0.010526\n",
       "dtype: float64"
      ]
     },
     "execution_count": 29,
     "metadata": {},
     "output_type": "execute_result"
    }
   ],
   "source": [
    "pd.Series(km_4.labels_).value_counts()/len(dimensions)"
   ]
  },
  {
   "cell_type": "code",
   "execution_count": 30,
   "metadata": {},
   "outputs": [
    {
     "data": {
      "text/plain": [
       "0    0.936842\n",
       "4    0.031579\n",
       "3    0.010526\n",
       "2    0.010526\n",
       "1    0.010526\n",
       "dtype: float64"
      ]
     },
     "execution_count": 30,
     "metadata": {},
     "output_type": "execute_result"
    }
   ],
   "source": [
    "pd.Series(km_5.labels_).value_counts()/len(dimensions)"
   ]
  },
  {
   "cell_type": "code",
   "execution_count": 31,
   "metadata": {},
   "outputs": [
    {
     "data": {
      "text/plain": [
       "0    0.915789\n",
       "4    0.031579\n",
       "5    0.021053\n",
       "3    0.010526\n",
       "2    0.010526\n",
       "1    0.010526\n",
       "dtype: float64"
      ]
     },
     "execution_count": 31,
     "metadata": {},
     "output_type": "execute_result"
    }
   ],
   "source": [
    "pd.Series(km_6.labels_).value_counts()/len(dimensions)"
   ]
  },
  {
   "cell_type": "code",
   "execution_count": 32,
   "metadata": {},
   "outputs": [
    {
     "data": {
      "text/plain": [
       "0    0.884211\n",
       "6    0.031579\n",
       "4    0.031579\n",
       "5    0.021053\n",
       "3    0.010526\n",
       "2    0.010526\n",
       "1    0.010526\n",
       "dtype: float64"
      ]
     },
     "execution_count": 32,
     "metadata": {},
     "output_type": "execute_result"
    }
   ],
   "source": [
    "pd.Series(km_7.labels_).value_counts()/len(dimensions)"
   ]
  },
  {
   "cell_type": "code",
   "execution_count": 33,
   "metadata": {},
   "outputs": [
    {
     "data": {
      "text/plain": [
       "0    0.873684\n",
       "7    0.031579\n",
       "5    0.031579\n",
       "4    0.021053\n",
       "6    0.010526\n",
       "3    0.010526\n",
       "2    0.010526\n",
       "1    0.010526\n",
       "dtype: float64"
      ]
     },
     "execution_count": 33,
     "metadata": {},
     "output_type": "execute_result"
    }
   ],
   "source": [
    "pd.Series(km_8.labels_).value_counts()/len(dimensions)"
   ]
  },
  {
   "cell_type": "code",
   "execution_count": 34,
   "metadata": {},
   "outputs": [
    {
     "data": {
      "text/plain": [
       "0    0.863158\n",
       "7    0.031579\n",
       "5    0.031579\n",
       "4    0.021053\n",
       "8    0.010526\n",
       "6    0.010526\n",
       "3    0.010526\n",
       "2    0.010526\n",
       "1    0.010526\n",
       "dtype: float64"
      ]
     },
     "execution_count": 34,
     "metadata": {},
     "output_type": "execute_result"
    }
   ],
   "source": [
    "pd.Series(km_9.labels_).value_counts()/len(dimensions)"
   ]
  },
  {
   "cell_type": "code",
   "execution_count": 35,
   "metadata": {},
   "outputs": [
    {
     "data": {
      "text/plain": [
       "0    0.831579\n",
       "9    0.031579\n",
       "5    0.031579\n",
       "1    0.031579\n",
       "3    0.021053\n",
       "8    0.010526\n",
       "7    0.010526\n",
       "6    0.010526\n",
       "4    0.010526\n",
       "2    0.010526\n",
       "dtype: float64"
      ]
     },
     "execution_count": 35,
     "metadata": {},
     "output_type": "execute_result"
    }
   ],
   "source": [
    "pd.Series(km_10.labels_).value_counts()/len(dimensions)"
   ]
  },
  {
   "cell_type": "code",
   "execution_count": 36,
   "metadata": {},
   "outputs": [],
   "source": [
    "#Silhouette Coefficient"
   ]
  },
  {
   "cell_type": "code",
   "execution_count": 37,
   "metadata": {},
   "outputs": [
    {
     "data": {
      "text/plain": [
       "[-0.3920693599502868,\n",
       " -0.3887361927451632,\n",
       " -0.34671631716802065,\n",
       " -0.3169921647090621,\n",
       " -0.27381631952090413,\n",
       " -0.28512387283992097,\n",
       " -0.28155920765710696,\n",
       " -0.22900551396638935]"
      ]
     },
     "execution_count": 37,
     "metadata": {},
     "output_type": "execute_result"
    }
   ],
   "source": [
    "scores=[]\n",
    "km_3_score=metrics.silhouette_score(reviews_tdm_df,km_3.labels_)\n",
    "km_4_score=metrics.silhouette_score(reviews_tdm_df,km_4.labels_)\n",
    "km_5_score=metrics.silhouette_score(reviews_tdm_df,km_5.labels_)\n",
    "km_6_score=metrics.silhouette_score(reviews_tdm_df,km_6.labels_)\n",
    "km_7_score=metrics.silhouette_score(reviews_tdm_df,km_7.labels_)\n",
    "km_8_score=metrics.silhouette_score(reviews_tdm_df,km_8.labels_)\n",
    "km_9_score=metrics.silhouette_score(reviews_tdm_df,km_9.labels_)\n",
    "km_10_score=metrics.silhouette_score(reviews_tdm_df,km_10.labels_)\n",
    "km_range=range(3,11)\n",
    "scores=[km_3_score,km_4_score,km_5_score,km_6_score,km_7_score,km_8_score,km_9_score,\n",
    "        km_10_score]\n",
    "scores"
   ]
  },
  {
   "cell_type": "code",
   "execution_count": 38,
   "metadata": {
    "scrolled": true
   },
   "outputs": [
    {
     "data": {
      "image/png": "[encoded data removed]",
      "text/plain": [
       "<Figure size 432x288 with 1 Axes>"
      ]
     },
     "metadata": {
      "needs_background": "light"
     },
     "output_type": "display_data"
    }
   ],
   "source": [
    "plt.plot(km_range,scores)\n",
    "plt.xlabel('No of clusters')\n",
    "plt.ylabel('Silhoutte Coefficient')\n",
    "plt.grid()\n",
    "plt.show()"
   ]
  },
  {
   "cell_type": "code",
   "execution_count": 39,
   "metadata": {},
   "outputs": [],
   "source": [
    "#Elbow Analysis"
   ]
  },
  {
   "cell_type": "code",
   "execution_count": 40,
   "metadata": {},
   "outputs": [
    {
     "data": {
      "text/plain": [
       "[565982.3466279777,\n",
       " 542952.6538797728,\n",
       " 517190.10394594923,\n",
       " 485550.36952135287,\n",
       " 454687.6906060217,\n",
       " 445421.31010964885,\n",
       " 419310.7883997435,\n",
       " 388590.6863785141]"
      ]
     },
     "execution_count": 40,
     "metadata": {},
     "output_type": "execute_result"
    }
   ],
   "source": [
    "cluster_errors=[km_3.inertia_,km_4.inertia_,km_5.inertia_,km_6.inertia_,\n",
    "               km_7.inertia_,km_8.inertia_,km_9.inertia_,km_10.inertia_]\n",
    "cluster_errors"
   ]
  },
  {
   "cell_type": "code",
   "execution_count": 41,
   "metadata": {},
   "outputs": [
    {
     "data": {
      "image/png": "[encoded data removed]",
      "text/plain": [
       "<Figure size 432x288 with 1 Axes>"
      ]
     },
     "metadata": {
      "needs_background": "light"
     },
     "output_type": "display_data"
    }
   ],
   "source": [
    "plt.plot(km_range,cluster_errors,marker='o')\n",
    "plt.xlabel('No of clusters')\n",
    "plt.ylabel('Error')\n",
    "plt.grid()\n",
    "plt.show()"
   ]
  },
  {
   "cell_type": "code",
   "execution_count": 42,
   "metadata": {},
   "outputs": [],
   "source": [
    "#Therefore, taking number of clusters = 7"
   ]
  },
  {
   "cell_type": "code",
   "execution_count": 43,
   "metadata": {},
   "outputs": [],
   "source": [
    "reviews_tdm_df['cluster']=pd.Series(km_7.labels_)"
   ]
  },
  {
   "cell_type": "code",
   "execution_count": 44,
   "metadata": {},
   "outputs": [
    {
     "name": "stdout",
     "output_type": "stream",
     "text": [
      "For Cluster: 0\n",
      "['information needed', 'registering site unprofessional', 'closing costs', 'credit card', 'poor communication', 'apr point', 'nasb rep', 'total closing']\n",
      "For Cluster: 1\n",
      "['day closing', 'ca nt', 'day closing', 'day closing', 'day closing', 'day closing', 'day closing', 'day closing']\n",
      "For Cluster: 2\n",
      "['mortgage broker', 'lender credit', 'mortgage broker', 'mortgage broker', 'mortgage broker', 'mortgage broker', 'mortgage broker', 'mortgage broker']\n",
      "For Cluster: 3\n",
      "['make sense', 'make sense', 'make sense', 'loan mgr', 'make sense', 'make sense', 'make sense', 'make sense']\n",
      "For Cluster: 4\n",
      "['service veteran read', 'automatic payments', 'service veteran read', 'service veteran read', 'service veteran read', 'service veteran read', 'service veteran read', 'service veteran read']\n",
      "For Cluster: 5\n",
      "['started refinance', 'loan officer', 'started refinance', 'started refinance', 'started refinance', 'started refinance', 'started refinance', 'started refinance']\n",
      "For Cluster: 6\n",
      "['star read', 'star read', 'star read', 'star read', 'star read', 'earlier documentation', 'star read', 'star read']\n"
     ]
    }
   ],
   "source": [
    "#TOPIC MODELLING FOR EACH CLUSTER\n",
    "lda_model=LatentDirichletAllocation(n_components=8,random_state=120293)\n",
    "for cluster,df in reviews_tdm_df.groupby(['cluster']):\n",
    "    print('For Cluster:',cluster)\n",
    "    train_topics=lda_model.fit_transform(df.iloc[:,0:-1])\n",
    "    topic_word=lda_model.components_\n",
    "    vocab=vect.get_feature_names()\n",
    "    # view the topic models\n",
    "    n_top_words = 1\n",
    "    topic_summaries = []\n",
    "    for i, topic_dist in enumerate(topic_word):\n",
    "        topic_words = np.array(vocab)[np.argsort(topic_dist)][:-(n_top_words+1):-1]\n",
    "        topic_summaries.append(' '.join(topic_words))\n",
    "\n",
    "    print(topic_summaries)"
   ]
  },
  {
   "cell_type": "markdown",
   "metadata": {},
   "source": [
    "### Predicting Star Rating using reviews"
   ]
  },
  {
   "cell_type": "code",
   "execution_count": 45,
   "metadata": {},
   "outputs": [],
   "source": [
    "reviews_data=pd.read_excel('C:/Users/Lenovo/Desktop/5. Bank Reviews-Complaints Analysis/BankReviews.xlsx')"
   ]
  },
  {
   "cell_type": "code",
   "execution_count": 46,
   "metadata": {},
   "outputs": [],
   "source": [
    "vect=TfidfVectorizer(ngram_range=(1,1),min_df=0.001,max_df=0.95,binary=False,stop_words='english')"
   ]
  },
  {
   "cell_type": "code",
   "execution_count": 47,
   "metadata": {},
   "outputs": [],
   "source": [
    "review_tdm=pd.DataFrame(vect.fit_transform(reviews_data.Reviews).toarray(),columns=vect.get_feature_names())"
   ]
  },
  {
   "cell_type": "code",
   "execution_count": 48,
   "metadata": {},
   "outputs": [],
   "source": [
    "review_tdm['Stars']=reviews_data.Stars"
   ]
  },
  {
   "cell_type": "code",
   "execution_count": 49,
   "metadata": {},
   "outputs": [],
   "source": [
    "review_tdm=review_tdm.apply(lambda x: x.clip(lower=x.quantile(0.01),upper=x.quantile(0.99)))"
   ]
  },
  {
   "cell_type": "code",
   "execution_count": 50,
   "metadata": {},
   "outputs": [],
   "source": [
    "train_x,test_x,train_y,test_y=train_test_split(review_tdm.iloc[:,0:-1],review_tdm.Stars,test_size=0.3,random_state=120293)"
   ]
  },
  {
   "cell_type": "markdown",
   "metadata": {},
   "source": [
    "### Random Forest Regressor"
   ]
  },
  {
   "cell_type": "code",
   "execution_count": 51,
   "metadata": {},
   "outputs": [],
   "source": [
    "pGrid={'n_estimators':[5,10,20,30,40,50,60,70,80,90,100]}"
   ]
  },
  {
   "cell_type": "code",
   "execution_count": 52,
   "metadata": {},
   "outputs": [],
   "source": [
    "gscv_rf=GridSearchCV(estimator=RandomForestRegressor(),param_grid=pGrid,cv=10,\n",
    "                         verbose=10,n_jobs=-1)"
   ]
  },
  {
   "cell_type": "code",
   "execution_count": 53,
   "metadata": {
    "scrolled": true
   },
   "outputs": [
    {
     "name": "stdout",
     "output_type": "stream",
     "text": [
      "Fitting 10 folds for each of 11 candidates, totalling 110 fits\n"
     ]
    },
    {
     "name": "stderr",
     "output_type": "stream",
     "text": [
      "[Parallel(n_jobs=-1)]: Using backend LokyBackend with 4 concurrent workers.\n",
      "[Parallel(n_jobs=-1)]: Done   5 tasks      | elapsed:    3.6s\n",
      "[Parallel(n_jobs=-1)]: Done  10 tasks      | elapsed:    3.9s\n",
      "[Parallel(n_jobs=-1)]: Done  17 tasks      | elapsed:    4.7s\n",
      "[Parallel(n_jobs=-1)]: Done  24 tasks      | elapsed:    5.8s\n",
      "[Parallel(n_jobs=-1)]: Done  33 tasks      | elapsed:    8.1s\n",
      "[Parallel(n_jobs=-1)]: Done  42 tasks      | elapsed:   10.4s\n",
      "[Parallel(n_jobs=-1)]: Done  53 tasks      | elapsed:   14.7s\n",
      "[Parallel(n_jobs=-1)]: Done  64 tasks      | elapsed:   19.8s\n",
      "[Parallel(n_jobs=-1)]: Done  77 tasks      | elapsed:   28.5s\n",
      "[Parallel(n_jobs=-1)]: Done  90 tasks      | elapsed:   37.3s\n",
      "[Parallel(n_jobs=-1)]: Done 110 out of 110 | elapsed:   54.0s finished\n"
     ]
    },
    {
     "data": {
      "text/plain": [
       "GridSearchCV(cv=10, error_score=nan,\n",
       "             estimator=RandomForestRegressor(bootstrap=True, ccp_alpha=0.0,\n",
       "                                             criterion='mse', max_depth=None,\n",
       "                                             max_features='auto',\n",
       "                                             max_leaf_nodes=None,\n",
       "                                             max_samples=None,\n",
       "                                             min_impurity_decrease=0.0,\n",
       "                                             min_impurity_split=None,\n",
       "                                             min_samples_leaf=1,\n",
       "                                             min_samples_split=2,\n",
       "                                             min_weight_fraction_leaf=0.0,\n",
       "                                             n_estimators=100, n_jobs=None,\n",
       "                                             oob_score=False, random_state=None,\n",
       "                                             verbose=0, warm_start=False),\n",
       "             iid='deprecated', n_jobs=-1,\n",
       "             param_grid={'n_estimators': [5, 10, 20, 30, 40, 50, 60, 70, 80, 90,\n",
       "                                          100]},\n",
       "             pre_dispatch='2*n_jobs', refit=True, return_train_score=False,\n",
       "             scoring=None, verbose=10)"
      ]
     },
     "execution_count": 53,
     "metadata": {},
     "output_type": "execute_result"
    }
   ],
   "source": [
    "gscv_rf.fit(train_x,train_y)"
   ]
  },
  {
   "cell_type": "code",
   "execution_count": 54,
   "metadata": {},
   "outputs": [
    {
     "data": {
      "text/plain": [
       "{'n_estimators': 100}"
      ]
     },
     "execution_count": 54,
     "metadata": {},
     "output_type": "execute_result"
    }
   ],
   "source": [
    "gscv_rf.best_params_"
   ]
  },
  {
   "cell_type": "code",
   "execution_count": 55,
   "metadata": {},
   "outputs": [
    {
     "data": {
      "text/plain": [
       "RandomForestRegressor(bootstrap=True, ccp_alpha=0.0, criterion='mse',\n",
       "                      max_depth=None, max_features='auto', max_leaf_nodes=None,\n",
       "                      max_samples=None, min_impurity_decrease=0.0,\n",
       "                      min_impurity_split=None, min_samples_leaf=1,\n",
       "                      min_samples_split=2, min_weight_fraction_leaf=0.0,\n",
       "                      n_estimators=100, n_jobs=None, oob_score=False,\n",
       "                      random_state=None, verbose=0, warm_start=False)"
      ]
     },
     "execution_count": 55,
     "metadata": {},
     "output_type": "execute_result"
    }
   ],
   "source": [
    "rf=gscv_rf.best_estimator_\n",
    "rf.fit(train_x,train_y)"
   ]
  },
  {
   "cell_type": "code",
   "execution_count": 56,
   "metadata": {},
   "outputs": [],
   "source": [
    "train_x=train_x.reset_index(drop=True)\n",
    "test_x=test_x.reset_index(drop=True)\n",
    "train_y=train_y.reset_index(drop=True)\n",
    "test_y=test_y.reset_index(drop=True)\n",
    "train_pred=pd.Series(rf.predict(train_x))\n",
    "test_pred=pd.Series(rf.predict(test_x))\n",
    "train_df=pd.DataFrame()\n",
    "test_df=pd.DataFrame()\n",
    "train_df=pd.concat([train_y,train_pred],axis=1)\n",
    "train_df.columns=['Actual Star Ratings','Predicted Star Ratings']\n",
    "test_df=pd.concat([test_y,test_pred],axis=1)\n",
    "test_df.columns=['Actual Star Ratings','Predicted Star Ratings']"
   ]
  },
  {
   "cell_type": "code",
   "execution_count": 57,
   "metadata": {},
   "outputs": [
    {
     "data": {
      "text/html": [
       "<div>\n",
       "<style scoped>\n",
       "    .dataframe tbody tr th:only-of-type {\n",
       "        vertical-align: middle;\n",
       "    }\n",
       "\n",
       "    .dataframe tbody tr th {\n",
       "        vertical-align: top;\n",
       "    }\n",
       "\n",
       "    .dataframe thead th {\n",
       "        text-align: right;\n",
       "    }\n",
       "</style>\n",
       "<table border=\"1\" class=\"dataframe\">\n",
       "  <thead>\n",
       "    <tr style=\"text-align: right;\">\n",
       "      <th></th>\n",
       "      <th>000</th>\n",
       "      <th>10</th>\n",
       "      <th>100</th>\n",
       "      <th>101</th>\n",
       "      <th>1031</th>\n",
       "      <th>1040s</th>\n",
       "      <th>11</th>\n",
       "      <th>12</th>\n",
       "      <th>13</th>\n",
       "      <th>14</th>\n",
       "      <th>...</th>\n",
       "      <th>year</th>\n",
       "      <th>years</th>\n",
       "      <th>yelp</th>\n",
       "      <th>yep</th>\n",
       "      <th>yes</th>\n",
       "      <th>zach</th>\n",
       "      <th>zelada</th>\n",
       "      <th>zero</th>\n",
       "      <th>Actual Star Ratings</th>\n",
       "      <th>Predicted Star Ratings</th>\n",
       "    </tr>\n",
       "  </thead>\n",
       "  <tbody>\n",
       "    <tr>\n",
       "      <th>0</th>\n",
       "      <td>0.0</td>\n",
       "      <td>0.0</td>\n",
       "      <td>0.0</td>\n",
       "      <td>0.0</td>\n",
       "      <td>0.0</td>\n",
       "      <td>0.0</td>\n",
       "      <td>0.0</td>\n",
       "      <td>0.0</td>\n",
       "      <td>0.0</td>\n",
       "      <td>0.0</td>\n",
       "      <td>...</td>\n",
       "      <td>0.0</td>\n",
       "      <td>0.000000</td>\n",
       "      <td>0.0</td>\n",
       "      <td>0.0</td>\n",
       "      <td>0.0</td>\n",
       "      <td>0.0</td>\n",
       "      <td>0.0</td>\n",
       "      <td>0.0</td>\n",
       "      <td>5</td>\n",
       "      <td>4.72</td>\n",
       "    </tr>\n",
       "    <tr>\n",
       "      <th>1</th>\n",
       "      <td>0.0</td>\n",
       "      <td>0.0</td>\n",
       "      <td>0.0</td>\n",
       "      <td>0.0</td>\n",
       "      <td>0.0</td>\n",
       "      <td>0.0</td>\n",
       "      <td>0.0</td>\n",
       "      <td>0.0</td>\n",
       "      <td>0.0</td>\n",
       "      <td>0.0</td>\n",
       "      <td>...</td>\n",
       "      <td>0.0</td>\n",
       "      <td>0.000000</td>\n",
       "      <td>0.0</td>\n",
       "      <td>0.0</td>\n",
       "      <td>0.0</td>\n",
       "      <td>0.0</td>\n",
       "      <td>0.0</td>\n",
       "      <td>0.0</td>\n",
       "      <td>5</td>\n",
       "      <td>5.00</td>\n",
       "    </tr>\n",
       "    <tr>\n",
       "      <th>2</th>\n",
       "      <td>0.0</td>\n",
       "      <td>0.0</td>\n",
       "      <td>0.0</td>\n",
       "      <td>0.0</td>\n",
       "      <td>0.0</td>\n",
       "      <td>0.0</td>\n",
       "      <td>0.0</td>\n",
       "      <td>0.0</td>\n",
       "      <td>0.0</td>\n",
       "      <td>0.0</td>\n",
       "      <td>...</td>\n",
       "      <td>0.0</td>\n",
       "      <td>0.000000</td>\n",
       "      <td>0.0</td>\n",
       "      <td>0.0</td>\n",
       "      <td>0.0</td>\n",
       "      <td>0.0</td>\n",
       "      <td>0.0</td>\n",
       "      <td>0.0</td>\n",
       "      <td>5</td>\n",
       "      <td>4.96</td>\n",
       "    </tr>\n",
       "    <tr>\n",
       "      <th>3</th>\n",
       "      <td>0.0</td>\n",
       "      <td>0.0</td>\n",
       "      <td>0.0</td>\n",
       "      <td>0.0</td>\n",
       "      <td>0.0</td>\n",
       "      <td>0.0</td>\n",
       "      <td>0.0</td>\n",
       "      <td>0.0</td>\n",
       "      <td>0.0</td>\n",
       "      <td>0.0</td>\n",
       "      <td>...</td>\n",
       "      <td>0.0</td>\n",
       "      <td>0.000000</td>\n",
       "      <td>0.0</td>\n",
       "      <td>0.0</td>\n",
       "      <td>0.0</td>\n",
       "      <td>0.0</td>\n",
       "      <td>0.0</td>\n",
       "      <td>0.0</td>\n",
       "      <td>5</td>\n",
       "      <td>4.84</td>\n",
       "    </tr>\n",
       "    <tr>\n",
       "      <th>4</th>\n",
       "      <td>0.0</td>\n",
       "      <td>0.0</td>\n",
       "      <td>0.0</td>\n",
       "      <td>0.0</td>\n",
       "      <td>0.0</td>\n",
       "      <td>0.0</td>\n",
       "      <td>0.0</td>\n",
       "      <td>0.0</td>\n",
       "      <td>0.0</td>\n",
       "      <td>0.0</td>\n",
       "      <td>...</td>\n",
       "      <td>0.0</td>\n",
       "      <td>0.099397</td>\n",
       "      <td>0.0</td>\n",
       "      <td>0.0</td>\n",
       "      <td>0.0</td>\n",
       "      <td>0.0</td>\n",
       "      <td>0.0</td>\n",
       "      <td>0.0</td>\n",
       "      <td>5</td>\n",
       "      <td>4.92</td>\n",
       "    </tr>\n",
       "  </tbody>\n",
       "</table>\n",
       "<p>5 rows × 2432 columns</p>\n",
       "</div>"
      ],
      "text/plain": [
       "   000   10  100  101  1031  1040s   11   12   13   14  ...  year     years  \\\n",
       "0  0.0  0.0  0.0  0.0   0.0    0.0  0.0  0.0  0.0  0.0  ...   0.0  0.000000   \n",
       "1  0.0  0.0  0.0  0.0   0.0    0.0  0.0  0.0  0.0  0.0  ...   0.0  0.000000   \n",
       "2  0.0  0.0  0.0  0.0   0.0    0.0  0.0  0.0  0.0  0.0  ...   0.0  0.000000   \n",
       "3  0.0  0.0  0.0  0.0   0.0    0.0  0.0  0.0  0.0  0.0  ...   0.0  0.000000   \n",
       "4  0.0  0.0  0.0  0.0   0.0    0.0  0.0  0.0  0.0  0.0  ...   0.0  0.099397   \n",
       "\n",
       "   yelp  yep  yes  zach  zelada  zero  Actual Star Ratings  \\\n",
       "0   0.0  0.0  0.0   0.0     0.0   0.0                    5   \n",
       "1   0.0  0.0  0.0   0.0     0.0   0.0                    5   \n",
       "2   0.0  0.0  0.0   0.0     0.0   0.0                    5   \n",
       "3   0.0  0.0  0.0   0.0     0.0   0.0                    5   \n",
       "4   0.0  0.0  0.0   0.0     0.0   0.0                    5   \n",
       "\n",
       "   Predicted Star Ratings  \n",
       "0                    4.72  \n",
       "1                    5.00  \n",
       "2                    4.96  \n",
       "3                    4.84  \n",
       "4                    4.92  \n",
       "\n",
       "[5 rows x 2432 columns]"
      ]
     },
     "execution_count": 57,
     "metadata": {},
     "output_type": "execute_result"
    }
   ],
   "source": [
    "train_df_final=pd.concat([train_x,train_df],axis=1)\n",
    "test_df_final=pd.concat([test_x,test_df],axis=1)\n",
    "train_df_final.head()"
   ]
  },
  {
   "cell_type": "code",
   "execution_count": 58,
   "metadata": {},
   "outputs": [
    {
     "data": {
      "text/html": [
       "<div>\n",
       "<style scoped>\n",
       "    .dataframe tbody tr th:only-of-type {\n",
       "        vertical-align: middle;\n",
       "    }\n",
       "\n",
       "    .dataframe tbody tr th {\n",
       "        vertical-align: top;\n",
       "    }\n",
       "\n",
       "    .dataframe thead th {\n",
       "        text-align: right;\n",
       "    }\n",
       "</style>\n",
       "<table border=\"1\" class=\"dataframe\">\n",
       "  <thead>\n",
       "    <tr style=\"text-align: right;\">\n",
       "      <th></th>\n",
       "      <th>000</th>\n",
       "      <th>10</th>\n",
       "      <th>100</th>\n",
       "      <th>101</th>\n",
       "      <th>1031</th>\n",
       "      <th>1040s</th>\n",
       "      <th>11</th>\n",
       "      <th>12</th>\n",
       "      <th>13</th>\n",
       "      <th>14</th>\n",
       "      <th>...</th>\n",
       "      <th>year</th>\n",
       "      <th>years</th>\n",
       "      <th>yelp</th>\n",
       "      <th>yep</th>\n",
       "      <th>yes</th>\n",
       "      <th>zach</th>\n",
       "      <th>zelada</th>\n",
       "      <th>zero</th>\n",
       "      <th>Actual Star Ratings</th>\n",
       "      <th>Predicted Star Ratings</th>\n",
       "    </tr>\n",
       "  </thead>\n",
       "  <tbody>\n",
       "    <tr>\n",
       "      <th>0</th>\n",
       "      <td>0.0</td>\n",
       "      <td>0.0</td>\n",
       "      <td>0.0</td>\n",
       "      <td>0.0</td>\n",
       "      <td>0.0</td>\n",
       "      <td>0.0</td>\n",
       "      <td>0.0</td>\n",
       "      <td>0.0</td>\n",
       "      <td>0.0</td>\n",
       "      <td>0.0</td>\n",
       "      <td>...</td>\n",
       "      <td>0.0</td>\n",
       "      <td>0.0</td>\n",
       "      <td>0.0</td>\n",
       "      <td>0.0</td>\n",
       "      <td>0.0</td>\n",
       "      <td>0.0</td>\n",
       "      <td>0.0</td>\n",
       "      <td>0.0</td>\n",
       "      <td>5</td>\n",
       "      <td>5.00</td>\n",
       "    </tr>\n",
       "    <tr>\n",
       "      <th>1</th>\n",
       "      <td>0.0</td>\n",
       "      <td>0.0</td>\n",
       "      <td>0.0</td>\n",
       "      <td>0.0</td>\n",
       "      <td>0.0</td>\n",
       "      <td>0.0</td>\n",
       "      <td>0.0</td>\n",
       "      <td>0.0</td>\n",
       "      <td>0.0</td>\n",
       "      <td>0.0</td>\n",
       "      <td>...</td>\n",
       "      <td>0.0</td>\n",
       "      <td>0.0</td>\n",
       "      <td>0.0</td>\n",
       "      <td>0.0</td>\n",
       "      <td>0.0</td>\n",
       "      <td>0.0</td>\n",
       "      <td>0.0</td>\n",
       "      <td>0.0</td>\n",
       "      <td>5</td>\n",
       "      <td>4.88</td>\n",
       "    </tr>\n",
       "    <tr>\n",
       "      <th>2</th>\n",
       "      <td>0.0</td>\n",
       "      <td>0.0</td>\n",
       "      <td>0.0</td>\n",
       "      <td>0.0</td>\n",
       "      <td>0.0</td>\n",
       "      <td>0.0</td>\n",
       "      <td>0.0</td>\n",
       "      <td>0.0</td>\n",
       "      <td>0.0</td>\n",
       "      <td>0.0</td>\n",
       "      <td>...</td>\n",
       "      <td>0.0</td>\n",
       "      <td>0.0</td>\n",
       "      <td>0.0</td>\n",
       "      <td>0.0</td>\n",
       "      <td>0.0</td>\n",
       "      <td>0.0</td>\n",
       "      <td>0.0</td>\n",
       "      <td>0.0</td>\n",
       "      <td>5</td>\n",
       "      <td>4.96</td>\n",
       "    </tr>\n",
       "    <tr>\n",
       "      <th>3</th>\n",
       "      <td>0.0</td>\n",
       "      <td>0.0</td>\n",
       "      <td>0.0</td>\n",
       "      <td>0.0</td>\n",
       "      <td>0.0</td>\n",
       "      <td>0.0</td>\n",
       "      <td>0.0</td>\n",
       "      <td>0.0</td>\n",
       "      <td>0.0</td>\n",
       "      <td>0.0</td>\n",
       "      <td>...</td>\n",
       "      <td>0.0</td>\n",
       "      <td>0.0</td>\n",
       "      <td>0.0</td>\n",
       "      <td>0.0</td>\n",
       "      <td>0.0</td>\n",
       "      <td>0.0</td>\n",
       "      <td>0.0</td>\n",
       "      <td>0.0</td>\n",
       "      <td>5</td>\n",
       "      <td>5.00</td>\n",
       "    </tr>\n",
       "    <tr>\n",
       "      <th>4</th>\n",
       "      <td>0.0</td>\n",
       "      <td>0.0</td>\n",
       "      <td>0.0</td>\n",
       "      <td>0.0</td>\n",
       "      <td>0.0</td>\n",
       "      <td>0.0</td>\n",
       "      <td>0.0</td>\n",
       "      <td>0.0</td>\n",
       "      <td>0.0</td>\n",
       "      <td>0.0</td>\n",
       "      <td>...</td>\n",
       "      <td>0.0</td>\n",
       "      <td>0.0</td>\n",
       "      <td>0.0</td>\n",
       "      <td>0.0</td>\n",
       "      <td>0.0</td>\n",
       "      <td>0.0</td>\n",
       "      <td>0.0</td>\n",
       "      <td>0.0</td>\n",
       "      <td>5</td>\n",
       "      <td>5.00</td>\n",
       "    </tr>\n",
       "  </tbody>\n",
       "</table>\n",
       "<p>5 rows × 2432 columns</p>\n",
       "</div>"
      ],
      "text/plain": [
       "   000   10  100  101  1031  1040s   11   12   13   14  ...  year  years  \\\n",
       "0  0.0  0.0  0.0  0.0   0.0    0.0  0.0  0.0  0.0  0.0  ...   0.0    0.0   \n",
       "1  0.0  0.0  0.0  0.0   0.0    0.0  0.0  0.0  0.0  0.0  ...   0.0    0.0   \n",
       "2  0.0  0.0  0.0  0.0   0.0    0.0  0.0  0.0  0.0  0.0  ...   0.0    0.0   \n",
       "3  0.0  0.0  0.0  0.0   0.0    0.0  0.0  0.0  0.0  0.0  ...   0.0    0.0   \n",
       "4  0.0  0.0  0.0  0.0   0.0    0.0  0.0  0.0  0.0  0.0  ...   0.0    0.0   \n",
       "\n",
       "   yelp  yep  yes  zach  zelada  zero  Actual Star Ratings  \\\n",
       "0   0.0  0.0  0.0   0.0     0.0   0.0                    5   \n",
       "1   0.0  0.0  0.0   0.0     0.0   0.0                    5   \n",
       "2   0.0  0.0  0.0   0.0     0.0   0.0                    5   \n",
       "3   0.0  0.0  0.0   0.0     0.0   0.0                    5   \n",
       "4   0.0  0.0  0.0   0.0     0.0   0.0                    5   \n",
       "\n",
       "   Predicted Star Ratings  \n",
       "0                    5.00  \n",
       "1                    4.88  \n",
       "2                    4.96  \n",
       "3                    5.00  \n",
       "4                    5.00  \n",
       "\n",
       "[5 rows x 2432 columns]"
      ]
     },
     "execution_count": 58,
     "metadata": {},
     "output_type": "execute_result"
    }
   ],
   "source": [
    "test_df_final.head()"
   ]
  },
  {
   "cell_type": "code",
   "execution_count": 59,
   "metadata": {},
   "outputs": [
    {
     "name": "stdout",
     "output_type": "stream",
     "text": [
      "RMSE on Training Set:  0.4203600237594803\n",
      "RMSE on Testing Set:  0.9396471902290046\n"
     ]
    }
   ],
   "source": [
    "#Evaluating Model\n",
    "train_rmse=np.sqrt(metrics.mean_squared_error(train_y,train_pred))\n",
    "test_rmse=np.sqrt(metrics.mean_squared_error(test_y,test_pred))\n",
    "print('RMSE on Training Set: ',train_rmse)\n",
    "print('RMSE on Testing Set: ',test_rmse)"
   ]
  },
  {
   "cell_type": "code",
   "execution_count": 60,
   "metadata": {},
   "outputs": [],
   "source": [
    "mape_train='%.5f' % np.mean(np.abs(train_y-train_pred)/train_y)\n",
    "mape_test='%.5f' % np.mean(np.abs(test_y-test_pred)/test_y)"
   ]
  },
  {
   "cell_type": "code",
   "execution_count": 61,
   "metadata": {},
   "outputs": [
    {
     "name": "stdout",
     "output_type": "stream",
     "text": [
      "0.13428\n",
      "0.29763\n"
     ]
    }
   ],
   "source": [
    "print(mape_train)\n",
    "print(mape_test)"
   ]
  },
  {
   "cell_type": "code",
   "execution_count": 62,
   "metadata": {},
   "outputs": [],
   "source": [
    "#Correlation"
   ]
  },
  {
   "cell_type": "code",
   "execution_count": 63,
   "metadata": {},
   "outputs": [],
   "source": [
    "train_corr=stats.stats.pearsonr(train_y,train_pred)\n",
    "test_corr=stats.stats.pearsonr(test_y,test_pred)"
   ]
  },
  {
   "cell_type": "code",
   "execution_count": 64,
   "metadata": {},
   "outputs": [
    {
     "name": "stdout",
     "output_type": "stream",
     "text": [
      "(0.9720315134481163, 6.151902180498945e-223)\n",
      "(0.8093582509074504, 1.71487051602669e-36)\n"
     ]
    }
   ],
   "source": [
    "print(train_corr)\n",
    "print(test_corr)"
   ]
  }
 ],
 "metadata": {
  "kernelspec": {
   "display_name": "Python 3",
   "language": "python",
   "name": "python3"
  },
  "language_info": {
   "codemirror_mode": {
    "name": "ipython",
    "version": 3
   },
   "file_extension": ".py",
   "mimetype": "text/x-python",
   "name": "python",
   "nbconvert_exporter": "python",
   "pygments_lexer": "ipython3",
   "version": "3.7.3"
  }
 },
 "nbformat": 4,
 "nbformat_minor": 2
}
